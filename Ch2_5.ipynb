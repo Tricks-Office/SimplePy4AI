{
 "cells": [
  {
   "cell_type": "markdown",
   "metadata": {},
   "source": [
    "### 판다스와 엑셀"
   ]
  },
  {
   "cell_type": "code",
   "execution_count": 1,
   "metadata": {},
   "outputs": [],
   "source": [
    "import pandas as pd\n",
    "df = pd.read_excel('C:/Data/Book/MinimizedPython/Ch2/Weight_Sample.xlsx')"
   ]
  },
  {
   "cell_type": "code",
   "execution_count": 2,
   "metadata": {},
   "outputs": [],
   "source": [
    "df = pd.read_excel(r'C:\\Data\\Book\\MinimizedPython\\Ch2\\Weight_Sample.xlsx')"
   ]
  },
  {
   "cell_type": "code",
   "execution_count": 3,
   "metadata": {},
   "outputs": [
    {
     "data": {
      "text/plain": [
       "0      62.9\n",
       "1      61.8\n",
       "2      60.7\n",
       "3      67.6\n",
       "4      68.6\n",
       "       ... \n",
       "495    57.9\n",
       "496    67.0\n",
       "497    68.9\n",
       "498    63.2\n",
       "499    62.5\n",
       "Name: Weight, Length: 500, dtype: float64"
      ]
     },
     "execution_count": 3,
     "metadata": {},
     "output_type": "execute_result"
    }
   ],
   "source": [
    "df['Weight']"
   ]
  },
  {
   "cell_type": "code",
   "execution_count": 4,
   "metadata": {},
   "outputs": [],
   "source": [
    "VarTest = df['Weight']"
   ]
  },
  {
   "cell_type": "code",
   "execution_count": 5,
   "metadata": {},
   "outputs": [],
   "source": [
    "VarTest = df[['Weight', 'Height']]"
   ]
  },
  {
   "cell_type": "code",
   "execution_count": 6,
   "metadata": {},
   "outputs": [],
   "source": [
    "df1 = pd.read_excel('C:/Data/Book/MinimizedPython/Ch2/매출관리Sample.xlsx')\n",
    "df2 = pd.read_excel('C:/Data/Book/MinimizedPython/Ch2/매출관리Sample.xlsx', sheet_name = '담당자코드')\n",
    "df3 = pd.read_excel('C:/Data/Book/MinimizedPython/Ch2/매출관리Sample.xlsx', sheet_name = 2)"
   ]
  },
  {
   "cell_type": "code",
   "execution_count": 7,
   "metadata": {},
   "outputs": [
    {
     "name": "stdout",
     "output_type": "stream",
     "text": [
      "<class 'pandas.core.frame.DataFrame'>\n",
      "RangeIndex: 440 entries, 0 to 439\n",
      "Data columns (total 6 columns):\n",
      " #   Column  Non-Null Count  Dtype         \n",
      "---  ------  --------------  -----         \n",
      " 0   접수번호    440 non-null    int64         \n",
      " 1   접수월     440 non-null    datetime64[ns]\n",
      " 2   담당자     440 non-null    int64         \n",
      " 3   담당자 코드  440 non-null    int64         \n",
      " 4   강의 코드   440 non-null    object        \n",
      " 5   수강인원    440 non-null    int64         \n",
      "dtypes: datetime64[ns](1), int64(4), object(1)\n",
      "memory usage: 20.8+ KB\n"
     ]
    }
   ],
   "source": [
    "df1.info()"
   ]
  },
  {
   "cell_type": "code",
   "execution_count": 9,
   "metadata": {},
   "outputs": [],
   "source": [
    "df2 = pd.read_excel('C:/Data/Book/MinimizedPython/Ch2/매출관리Sample.xlsx', \n",
    "    sheet_name = '담당자코드', skiprows=1, usecols='B:D')"
   ]
  }
 ],
 "metadata": {
  "kernelspec": {
   "display_name": "Python 3",
   "language": "python",
   "name": "python3"
  },
  "language_info": {
   "codemirror_mode": {
    "name": "ipython",
    "version": 3
   },
   "file_extension": ".py",
   "mimetype": "text/x-python",
   "name": "python",
   "nbconvert_exporter": "python",
   "pygments_lexer": "ipython3",
   "version": "3.12.4"
  }
 },
 "nbformat": 4,
 "nbformat_minor": 2
}

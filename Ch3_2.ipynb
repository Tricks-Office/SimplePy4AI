{
 "cells": [
  {
   "cell_type": "markdown",
   "metadata": {},
   "source": [
    "### 폴더와 파일 다루기"
   ]
  },
  {
   "cell_type": "code",
   "execution_count": 2,
   "metadata": {},
   "outputs": [],
   "source": [
    "from tkinter import filedialog\n",
    "import os"
   ]
  },
  {
   "cell_type": "code",
   "execution_count": 8,
   "metadata": {},
   "outputs": [
    {
     "name": "stdout",
     "output_type": "stream",
     "text": [
      "Tricks_Office_Py.docx\n",
      "Weight_Sample.xlsx\n",
      "매출관리Sample.xlsx\n",
      "자동업무트릭.pptx\n"
     ]
    }
   ],
   "source": [
    "folder_selected = filedialog.askdirectory()\n",
    "arr = os.listdir(folder_selected)\n",
    "for filename in arr:\n",
    "    print (filename)"
   ]
  },
  {
   "cell_type": "code",
   "execution_count": 5,
   "metadata": {},
   "outputs": [],
   "source": [
    "import re\n",
    "files = [f for f in os.listdir('.') if re.match(r'[0-9]+.*\\.jpg', f)]"
   ]
  },
  {
   "cell_type": "code",
   "execution_count": 6,
   "metadata": {},
   "outputs": [],
   "source": [
    "from tkinter import filedialog\n",
    "import os\n",
    "import re\n",
    "\n",
    "TPath = filedialog.askdirectory()\n",
    "pptfiles = [f for f in os.listdir(TPath) if re.match(r'.*[.]ppt', f)]\n",
    "xlfiles = [f for f in os.listdir(TPath) if re.match(r'.*[.]xls', f)]\n",
    "wordfiles = [f for f in os.listdir(TPath) if re.match(r'.*[.]doc', f)]"
   ]
  }
 ],
 "metadata": {
  "kernelspec": {
   "display_name": "Python 3",
   "language": "python",
   "name": "python3"
  },
  "language_info": {
   "codemirror_mode": {
    "name": "ipython",
    "version": 3
   },
   "file_extension": ".py",
   "mimetype": "text/x-python",
   "name": "python",
   "nbconvert_exporter": "python",
   "pygments_lexer": "ipython3",
   "version": "3.12.4"
  }
 },
 "nbformat": 4,
 "nbformat_minor": 2
}

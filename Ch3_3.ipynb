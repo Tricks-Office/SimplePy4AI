{
 "cells": [
  {
   "cell_type": "markdown",
   "metadata": {},
   "source": [
    "### 실습 - 파일 안의 이미지를 하나의 폴더에 복사하기"
   ]
  },
  {
   "cell_type": "code",
   "execution_count": 2,
   "metadata": {},
   "outputs": [],
   "source": [
    "from tkinter import filedialog\n",
    "import os\n",
    "import re\n",
    "\n",
    "result_f = r'C:\\Data\\Book\\MinimizedPython\\Ch3\\Ch3_3\\Result' # 사용자 환경에 따라 폴더 경로 수정할 것\n",
    "temp_f = 'Temp'\n",
    "\n",
    "TPath = filedialog.askdirectory()\n",
    "pptfiles = [f for f in os.listdir(TPath) if re.match(r'.*[.]ppt', f)]\n",
    "xlfiles = [f for f in os.listdir(TPath) if re.match(r'.*[.]xls', f)]\n",
    "wordfiles = [f for f in os.listdir(TPath) if re.match(r'.*[.]doc', f)]"
   ]
  },
  {
   "cell_type": "code",
   "execution_count": 3,
   "metadata": {},
   "outputs": [],
   "source": [
    "result_f = r'C:\\Data\\Book\\MinimizedPython\\Ch3\\Ch3_3\\Result' # 사용자 환경에 따라 폴더 경로 수정할 것\n",
    "TPath = r'C:\\Data\\Book\\MinimizedPython\\Ch3\\Ch3_3\\Data' # 사용자 환경에 따라 폴더 경로 수정할 것\n",
    "pptfile = 'PPT이미지Sample.pptx'\n",
    "\n",
    "newpath = os.path.join(result_f, 'ppt', pptfile[:pptfile.find('.')]) \n",
    "if not os.path.exists(newpath):\n",
    "    os.makedirs(newpath)"
   ]
  },
  {
   "cell_type": "code",
   "execution_count": 4,
   "metadata": {},
   "outputs": [],
   "source": [
    "import zipfile\n",
    "with zipfile.ZipFile(os.path.join(TPath,pptfile), 'r') as zip_ref:\n",
    "    zip_ref.extractall(temp_f)"
   ]
  },
  {
   "cell_type": "code",
   "execution_count": 5,
   "metadata": {},
   "outputs": [
    {
     "data": {
      "text/plain": [
       "['C:\\\\Data\\\\Book\\\\MinimizedPython\\\\Ch3\\\\Ch3_3\\\\Result\\\\ppt\\\\PPT이미지Sample\\\\image1.jpeg',\n",
       " 'C:\\\\Data\\\\Book\\\\MinimizedPython\\\\Ch3\\\\Ch3_3\\\\Result\\\\ppt\\\\PPT이미지Sample\\\\image10.png',\n",
       " 'C:\\\\Data\\\\Book\\\\MinimizedPython\\\\Ch3\\\\Ch3_3\\\\Result\\\\ppt\\\\PPT이미지Sample\\\\image11.svg',\n",
       " 'C:\\\\Data\\\\Book\\\\MinimizedPython\\\\Ch3\\\\Ch3_3\\\\Result\\\\ppt\\\\PPT이미지Sample\\\\image12.jpeg',\n",
       " 'C:\\\\Data\\\\Book\\\\MinimizedPython\\\\Ch3\\\\Ch3_3\\\\Result\\\\ppt\\\\PPT이미지Sample\\\\image13.jpg',\n",
       " 'C:\\\\Data\\\\Book\\\\MinimizedPython\\\\Ch3\\\\Ch3_3\\\\Result\\\\ppt\\\\PPT이미지Sample\\\\image14.jpg',\n",
       " 'C:\\\\Data\\\\Book\\\\MinimizedPython\\\\Ch3\\\\Ch3_3\\\\Result\\\\ppt\\\\PPT이미지Sample\\\\image15.jpg',\n",
       " 'C:\\\\Data\\\\Book\\\\MinimizedPython\\\\Ch3\\\\Ch3_3\\\\Result\\\\ppt\\\\PPT이미지Sample\\\\image2.png',\n",
       " 'C:\\\\Data\\\\Book\\\\MinimizedPython\\\\Ch3\\\\Ch3_3\\\\Result\\\\ppt\\\\PPT이미지Sample\\\\image3.png',\n",
       " 'C:\\\\Data\\\\Book\\\\MinimizedPython\\\\Ch3\\\\Ch3_3\\\\Result\\\\ppt\\\\PPT이미지Sample\\\\image4.png',\n",
       " 'C:\\\\Data\\\\Book\\\\MinimizedPython\\\\Ch3\\\\Ch3_3\\\\Result\\\\ppt\\\\PPT이미지Sample\\\\image5.png',\n",
       " 'C:\\\\Data\\\\Book\\\\MinimizedPython\\\\Ch3\\\\Ch3_3\\\\Result\\\\ppt\\\\PPT이미지Sample\\\\image6.png',\n",
       " 'C:\\\\Data\\\\Book\\\\MinimizedPython\\\\Ch3\\\\Ch3_3\\\\Result\\\\ppt\\\\PPT이미지Sample\\\\image7.png',\n",
       " 'C:\\\\Data\\\\Book\\\\MinimizedPython\\\\Ch3\\\\Ch3_3\\\\Result\\\\ppt\\\\PPT이미지Sample\\\\image8.svg',\n",
       " 'C:\\\\Data\\\\Book\\\\MinimizedPython\\\\Ch3\\\\Ch3_3\\\\Result\\\\ppt\\\\PPT이미지Sample\\\\image9.jpeg']"
      ]
     },
     "execution_count": 5,
     "metadata": {},
     "output_type": "execute_result"
    }
   ],
   "source": [
    "from distutils.dir_util import copy_tree\n",
    "copy_tree(os.path.join(temp_f,'ppt','media'), newpath)"
   ]
  },
  {
   "cell_type": "code",
   "execution_count": 6,
   "metadata": {},
   "outputs": [],
   "source": [
    "import shutil\n",
    "shutil.rmtree(temp_f)"
   ]
  },
  {
   "cell_type": "code",
   "execution_count": 9,
   "metadata": {},
   "outputs": [],
   "source": [
    "from tkinter import filedialog\n",
    "import os\n",
    "import re\n",
    "import zipfile\n",
    "from distutils.dir_util import copy_tree\n",
    "import shutil\n",
    "\n",
    "# 결과를 저장할 폴더와 임시 저장 폴더 이름을 변수로 지정\n",
    "result_f = r'C:\\Data\\Book\\MinimizedPython\\Ch3\\Ch3_3\\Result' # 사용자 환경에 따라 폴더 경로 수정할 것\n",
    "temp_f = 'Temp'\n",
    "\n",
    "# 작업할 폴더 선택하고 파워포인트, 엑셀, 워드 파일별로 리스트 만들기\n",
    "TPath = filedialog.askdirectory()\n",
    "pptfiles = [f for f in os.listdir(TPath) if re.match(r'.*[.]ppt', f)]\n",
    "xlfiles = [f for f in os.listdir(TPath) if re.match(r'.*[.]xls', f)]\n",
    "wordfiles = [f for f in os.listdir(TPath) if re.match(r'.*[.]doc', f)]\n",
    "\n",
    "# PPT 파일 반복문\n",
    "for pptfile in pptfiles:\n",
    "\n",
    "    # 저장할 파일 경로 생성\n",
    "    newpath = os.path.join(result_f, 'ppt', pptfile[:pptfile.find('.')]) \n",
    "    if not os.path.exists(newpath):\n",
    "        os.makedirs(newpath)\n",
    "\n",
    "    # 임시 폴더에 MS Office 파일 압축 해제\n",
    "    with zipfile.ZipFile(os.path.join(TPath,pptfile), 'r') as zip_ref:\n",
    "        zip_ref.extractall(temp_f)\n",
    "\n",
    "    # 임시 폴더에서 이미지 파일을 저장할 파일 경로에 복사\n",
    "    copy_tree(os.path.join(temp_f,'ppt','media'), newpath)\n",
    "\n",
    "    # 임시 폴더 삭제\n",
    "    shutil.rmtree(temp_f)\n",
    "\n",
    "# Excel 파일 반복문\n",
    "for xlfile in xlfiles:\n",
    "\n",
    "    # 저장할 파일 경로 생성\n",
    "    newpath = os.path.join(result_f, 'xl', xlfile[:xlfile.find('.')]) \n",
    "    if not os.path.exists(newpath):\n",
    "        os.makedirs(newpath)\n",
    "\n",
    "    # 임시 폴더에 MS Office 파일 압축 해제\n",
    "    with zipfile.ZipFile(os.path.join(TPath,xlfile), 'r') as zip_ref:\n",
    "        zip_ref.extractall(temp_f)\n",
    "\n",
    "    # 임시 폴더에서 이미지 파일을 저장할 파일 경로에 복사\n",
    "    copy_tree(os.path.join(temp_f,'xl','media'), newpath)\n",
    "\n",
    "    # 임시 폴더 삭제\n",
    "    shutil.rmtree(temp_f)\n",
    "\n",
    "# Word 파일 반복문\n",
    "for wordfile in wordfiles:\n",
    "\n",
    "    # 저장할 파일 경로 생성\n",
    "    newpath = os.path.join(result_f, 'word', wordfile[:wordfile.find('.')]) \n",
    "    if not os.path.exists(newpath):\n",
    "        os.makedirs(newpath)\n",
    "\n",
    "    # 임시 폴더에 MS Office 파일 압축 해제\n",
    "    with zipfile.ZipFile(os.path.join(TPath,wordfile), 'r') as zip_ref:\n",
    "        zip_ref.extractall(temp_f)\n",
    "\n",
    "    # 임시 폴더에서 이미지 파일을 저장할 파일 경로에 복사\n",
    "    copy_tree(os.path.join(temp_f,'word','media'), newpath)\n",
    "\n",
    "    # 임시 폴더 삭제\n",
    "    shutil.rmtree(temp_f)\n"
   ]
  },
  {
   "cell_type": "markdown",
   "metadata": {},
   "source": [
    "### 코드 다듬어서 최적화 하기"
   ]
  },
  {
   "cell_type": "code",
   "execution_count": 10,
   "metadata": {},
   "outputs": [
    {
     "name": "stdout",
     "output_type": "stream",
     "text": [
      "ppt & ppt\n",
      "xls & xl\n",
      "doc & word\n"
     ]
    }
   ],
   "source": [
    "ext = ['ppt', 'xls', 'doc']\n",
    "middir = ['ppt', 'xl', 'word']\n",
    "\n",
    "for inx,x in enumerate(ext):\n",
    "    print(x + ' & ' + middir[inx])"
   ]
  },
  {
   "cell_type": "code",
   "execution_count": 12,
   "metadata": {},
   "outputs": [],
   "source": [
    "from tkinter import filedialog\n",
    "import os\n",
    "import re\n",
    "import zipfile\n",
    "from distutils.dir_util import copy_tree\n",
    "import shutil\n",
    "\n",
    "# 결과를 저장할 폴더와 임시 저장 폴더 이름을 변수로 지정\n",
    "result_f =  r'C:\\Data\\Book\\MinimizedPython\\Ch3\\Ch3_3\\Result' # 사용자 환경에 따라 폴더 경로 수정할 것\n",
    "temp_f = 'Temp'\n",
    "\n",
    "# Office 파일별 확장자명 & 중간 폴더명 선언하기\n",
    "ext = ['ppt', 'xls', 'doc']\n",
    "middir = ['ppt', 'xl', 'word']\n",
    "\n",
    "# 작업할 폴더 선택하기\n",
    "TPath = filedialog.askdirectory()\n",
    "\n",
    "# 파일 확장자명에 따라 반복문 실행\n",
    "for idx, x in enumerate(ext):\n",
    "    # 확장자명 x에 따른 파일 리스트 가져오기\n",
    "    files = [f for f in os.listdir(TPath) if re.match(r'.*[.]' + x, f)]\n",
    "    \n",
    "    # 파일별 반복문\n",
    "    for file in files:\n",
    "\n",
    "        # 저장할 파일 경로 생성\n",
    "        newpath = os.path.join(result_f, middir[idx], file[:file.find('.')]) \n",
    "        if not os.path.exists(newpath):\n",
    "            os.makedirs(newpath)\n",
    "\n",
    "        # 임시 폴더에 MS Office 파일 압축 해제\n",
    "        with zipfile.ZipFile(os.path.join(TPath,file), 'r') as zip_ref:\n",
    "            zip_ref.extractall(temp_f)\n",
    "\n",
    "        # 임시 폴더에서 이미지 파일을 저장할 파일 경로에 복사\n",
    "        copy_tree(os.path.join(temp_f,middir[idx],'media'), newpath)\n",
    "\n",
    "        # 임시 폴더 삭제\n",
    "        shutil.rmtree(temp_f)\n"
   ]
  },
  {
   "cell_type": "markdown",
   "metadata": {},
   "source": [
    "### Ch3-3 최종 소스"
   ]
  },
  {
   "cell_type": "code",
   "execution_count": 13,
   "metadata": {},
   "outputs": [],
   "source": [
    "from tkinter import filedialog\n",
    "import os\n",
    "import re\n",
    "import zipfile\n",
    "import shutil\n",
    "\n",
    "# 결과를 저장할 폴더와 임시 저장 폴더 이름을 변수로 지정\n",
    "result_f = r'C:\\Data\\Book\\MinimizedPython\\Ch3\\Ch3_3\\Result' # 사용자 환경에 따라 폴더 경로 수정할 것\n",
    "temp_f = 'Temp'\n",
    "\n",
    "# Office 파일별 확장자명 & 중간 폴더명 선언하기\n",
    "ext = ['ppt', 'xls', 'doc']\n",
    "middir = ['ppt', 'xl', 'word']\n",
    "\n",
    "# 작업할 폴더 선택하기\n",
    "TPath = filedialog.askdirectory()\n",
    "\n",
    "# 파일 확장자명에 따라 반복문 실행\n",
    "for idx, x in enumerate(ext):\n",
    "    # 확장자명 x에 따른 파일 리스트 가져오기\n",
    "    files = [f for f in os.listdir(TPath) if re.match(r'.*[.]' + x, f)]\n",
    "    \n",
    "    # 파일별 반복문\n",
    "    for file in files:\n",
    "\n",
    "        # 저장할 파일 경로 생성\n",
    "        newpath = os.path.join(result_f, middir[idx], file[:file.find('.')]) \n",
    "        if not os.path.exists(newpath):\n",
    "            os.makedirs(newpath)\n",
    "\n",
    "        # 임시 폴더에 MS Office 파일 압축 해제\n",
    "        with zipfile.ZipFile(os.path.join(TPath,file), 'r') as zip_ref:\n",
    "            zip_ref.extractall(temp_f)\n",
    "\n",
    "        # 임시 폴더에서 이미지 파일을 저장할 파일 경로에 복사\n",
    "        shutil.copytree(os.path.join(temp_f,middir[idx],'media'), newpath, \n",
    "                        dirs_exist_ok=True)\n",
    "\n",
    "        # 임시 폴더 삭제\n",
    "        shutil.rmtree(temp_f)"
   ]
  }
 ],
 "metadata": {
  "kernelspec": {
   "display_name": "Python 3",
   "language": "python",
   "name": "python3"
  },
  "language_info": {
   "codemirror_mode": {
    "name": "ipython",
    "version": 3
   },
   "file_extension": ".py",
   "mimetype": "text/x-python",
   "name": "python",
   "nbconvert_exporter": "python",
   "pygments_lexer": "ipython3",
   "version": "3.12.4"
  }
 },
 "nbformat": 4,
 "nbformat_minor": 2
}
